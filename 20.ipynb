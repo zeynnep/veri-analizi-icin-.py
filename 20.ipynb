{
 "cells": [
  {
   "cell_type": "markdown",
   "metadata": {},
   "source": [
    "## _*Enumerate:*_\n",
    "\n",
    "+ Variable Unpacking konusunda bir tuple, liste gibi yapıların değerlerini birden çok değişkene bir seferde eşitlemeyi görmüştük.\n",
    "+ Bunun aynısını iterasyonda da yapabiliriz.\n",
    "\n"
   ]
  },
  {
   "cell_type": "code",
   "execution_count": 9,
   "metadata": {},
   "outputs": [
    {
     "name": "stdout",
     "output_type": "stream",
     "text": [
      "(1, 2)\n",
      "(10, 20)\n"
     ]
    }
   ],
   "source": [
    "l = [(1,2), (10,20)]\n",
    "for e in l:\n",
    "    print(e)"
   ]
  },
  {
   "cell_type": "code",
   "execution_count": 10,
   "metadata": {},
   "outputs": [
    {
     "name": "stdout",
     "output_type": "stream",
     "text": [
      "1\n",
      "2\n",
      "*********\n",
      "10\n",
      "20\n",
      "*********\n"
     ]
    }
   ],
   "source": [
    "for e in l:\n",
    "    a, b = e\n",
    "    print(a)\n",
    "    print(b)\n",
    "    print(\"*********\")"
   ]
  },
  {
   "cell_type": "code",
   "execution_count": 11,
   "metadata": {},
   "outputs": [
    {
     "name": "stdout",
     "output_type": "stream",
     "text": [
      "tuple'ın ilk elemanı 1\n",
      "tuple'ın ikinci elemanı 2\n",
      "-----------------------------\n",
      "tuple'ın ilk elemanı 10\n",
      "tuple'ın ikinci elemanı 20\n",
      "-----------------------------\n"
     ]
    }
   ],
   "source": [
    "for a, b in l:\n",
    "    print(\"tuple'ın ilk elemanı\", a)\n",
    "    print(\"tuple'ın ikinci elemanı\", b)\n",
    "    print(\"-----------------------------\")"
   ]
  },
  {
   "cell_type": "markdown",
   "metadata": {},
   "source": [
    "+ enumerate() bize (index, element) olarak verecek.\n"
   ]
  },
  {
   "cell_type": "code",
   "execution_count": 12,
   "metadata": {},
   "outputs": [
    {
     "name": "stdout",
     "output_type": "stream",
     "text": [
      "Tyler\n",
      "Blake\n",
      "Cory\n",
      "Cameron\n"
     ]
    }
   ],
   "source": [
    "adlar = ['Tyler', 'Blake', 'Cory', 'Cameron']\n",
    "for e in adlar:\n",
    "    print(e)"
   ]
  },
  {
   "cell_type": "code",
   "execution_count": 13,
   "metadata": {},
   "outputs": [
    {
     "name": "stdout",
     "output_type": "stream",
     "text": [
      "0 indexindeki eleman: Tyler\n",
      "1 indexindeki eleman: Blake\n",
      "2 indexindeki eleman: Cory\n",
      "3 indexindeki eleman: Cameron\n"
     ]
    }
   ],
   "source": [
    "for i, e in enumerate(adlar):\n",
    "    print(i, \"indexindeki eleman:\", e)"
   ]
  },
  {
   "cell_type": "markdown",
   "metadata": {},
   "source": [
    "+ enumerate() 0'dan başlamak zorunda değil, özellikle kaçtan başlayacağını belirtebiliriz."
   ]
  },
  {
   "cell_type": "code",
   "execution_count": 14,
   "metadata": {},
   "outputs": [
    {
     "name": "stdout",
     "output_type": "stream",
     "text": [
      "100 lokasyonunda bulunan eleman: Tyler\n",
      "101 lokasyonunda bulunan eleman: Blake\n",
      "102 lokasyonunda bulunan eleman: Cory\n",
      "103 lokasyonunda bulunan eleman: Cameron\n"
     ]
    }
   ],
   "source": [
    "for i, e in enumerate(adlar, start = 100):\n",
    "    print(i, \"lokasyonunda bulunan eleman:\", e)"
   ]
  },
  {
   "cell_type": "markdown",
   "metadata": {},
   "source": [
    "## _*zip()*_\n",
    "+ Farklı yapıların içinde paralel iterasyon yapmamızı sağlar. zip()"
   ]
  },
  {
   "cell_type": "code",
   "execution_count": 16,
   "metadata": {},
   "outputs": [
    {
     "name": "stdout",
     "output_type": "stream",
     "text": [
      "ogrenci_1 90\n",
      "ogrenci_2 80\n",
      "ogrenci_3 72\n"
     ]
    }
   ],
   "source": [
    "ogrenciler =[\"ogrenci_1\",\"ogrenci_2\",\"ogrenci_3\"]\n",
    "notlar = [90,80,72]\n",
    "for s, g in zip(ogrenciler, notlar):\n",
    "    print(s, g)"
   ]
  },
  {
   "cell_type": "code",
   "execution_count": 17,
   "metadata": {},
   "outputs": [
    {
     "name": "stdout",
     "output_type": "stream",
     "text": [
      "('ogrenci_1', 90)\n",
      "('ogrenci_2', 80)\n",
      "('ogrenci_3', 72)\n"
     ]
    }
   ],
   "source": [
    "for e in zip(ogrenciler, notlar):\n",
    "    print(e)"
   ]
  },
  {
   "cell_type": "code",
   "execution_count": 18,
   "metadata": {},
   "outputs": [
    {
     "name": "stdout",
     "output_type": "stream",
     "text": [
      "ogrenci_1 90\n",
      "ogrenci_2 80\n",
      "ogrenci_3 72\n"
     ]
    }
   ],
   "source": [
    "for i in range(len(ogrenciler)):\n",
    "    print(ogrenciler[i], notlar[i])"
   ]
  },
  {
   "cell_type": "markdown",
   "metadata": {},
   "source": [
    "## _*zip() Örnek:*_"
   ]
  },
  {
   "cell_type": "code",
   "execution_count": 19,
   "metadata": {},
   "outputs": [
    {
     "name": "stdout",
     "output_type": "stream",
     "text": [
      "Total profit: -53200.0\n",
      "Total profit: 54400.0\n",
      "Total profit: 55100.0\n"
     ]
    }
   ],
   "source": [
    "# Her ayki karı hesaplamak\n",
    "satis = [3500.00, 76300.00, 67200.00]\n",
    "maliyet = [56700.00, 21900.00, 12100.00]\n",
    "for i in range(len(maliyet)):\n",
    "    s = satis[i]\n",
    "    c = maliyet[i]\n",
    "    \n",
    "    kar = s - c\n",
    "    print(f'Total profit: {kar}')"
   ]
  },
  {
   "cell_type": "code",
   "execution_count": 21,
   "metadata": {},
   "outputs": [
    {
     "name": "stdout",
     "output_type": "stream",
     "text": [
      "Total profit: -53200.0\n",
      "Total profit: 54400.0\n",
      "Total profit: 55100.0\n"
     ]
    }
   ],
   "source": [
    "satis = [3500.00, 76300.00, 67200.00]\n",
    "maliyet = [56700.00, 21900.00, 12100.00]\n",
    "for s, c in zip(satis, maliyet):\n",
    "    kar = s - c\n",
    "    print(f'Total profit: {kar}')"
   ]
  },
  {
   "cell_type": "markdown",
   "metadata": {},
   "source": [
    "## _*zip() ile Dictionary Yaratmak:*_"
   ]
  },
  {
   "cell_type": "code",
   "execution_count": 23,
   "metadata": {},
   "outputs": [],
   "source": [
    "keys = ['isim', 'soyad', 'ulke', 'is']\n",
    "values = ['Denis', 'Walker', 'Turkey', 'data scientist']\n",
    "d = {}"
   ]
  },
  {
   "cell_type": "code",
   "execution_count": 25,
   "metadata": {},
   "outputs": [
    {
     "data": {
      "text/plain": [
       "{'isim': 'Denis', 'soyad': 'Walker', 'ulke': 'Turkey', 'is': 'data scientist'}"
      ]
     },
     "execution_count": 25,
     "metadata": {},
     "output_type": "execute_result"
    }
   ],
   "source": [
    "for k, v in zip(keys, values): d[k] = v\n",
    "d"
   ]
  },
  {
   "cell_type": "code",
   "execution_count": 27,
   "metadata": {},
   "outputs": [
    {
     "data": {
      "text/plain": [
       "'Denis'"
      ]
     },
     "execution_count": 27,
     "metadata": {},
     "output_type": "execute_result"
    }
   ],
   "source": [
    "d[\"isim\"]"
   ]
  }
 ],
 "metadata": {
  "kernelspec": {
   "display_name": "Python 3",
   "language": "python",
   "name": "python3"
  },
  "language_info": {
   "codemirror_mode": {
    "name": "ipython",
    "version": 3
   },
   "file_extension": ".py",
   "mimetype": "text/x-python",
   "name": "python",
   "nbconvert_exporter": "python",
   "pygments_lexer": "ipython3",
   "version": "3.10.3"
  },
  "orig_nbformat": 4
 },
 "nbformat": 4,
 "nbformat_minor": 2
}
