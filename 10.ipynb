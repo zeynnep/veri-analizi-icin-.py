{
 "cells": [
  {
   "cell_type": "markdown",
   "metadata": {},
   "source": [
    "# _*Döngüler*_ _*(*_ _*Loops*_ _*)*_"
   ]
  },
  {
   "cell_type": "markdown",
   "metadata": {},
   "source": [
    "## While \n",
    "+ While döngülerinde belirttiğimiz bir koşul doğru olduğu sürece while bloğu içerisinde tanımladığımız kod satırlarını tekrarlatabiliriz."
   ]
  },
  {
   "cell_type": "code",
   "execution_count": 7,
   "metadata": {},
   "outputs": [
    {
     "name": "stdout",
     "output_type": "stream",
     "text": [
      "1\n",
      "2\n",
      "3\n",
      "4\n"
     ]
    }
   ],
   "source": [
    "i = 1\n",
    "while i < 5:\n",
    "  print(i)\n",
    "  i += 1"
   ]
  },
  {
   "cell_type": "code",
   "execution_count": 8,
   "metadata": {},
   "outputs": [
    {
     "name": "stdout",
     "output_type": "stream",
     "text": [
      "sayı tek: 1\n",
      "sayı çift: 2\n",
      "sayı tek: 3\n",
      "sayı çift: 4\n",
      "sayı tek: 5\n",
      "sayı çift: 6\n",
      "sayı tek: 7\n",
      "sayı çift: 8\n",
      "sayı tek: 9\n",
      "sayı çift: 10\n",
      "sayı tek: 11\n",
      "sayı çift: 12\n",
      "sayı tek: 13\n",
      "sayı çift: 14\n",
      "sayı tek: 15\n",
      "sayı çift: 16\n",
      "sayı tek: 17\n",
      "sayı çift: 18\n",
      "sayı tek: 19\n",
      "sayı çift: 20\n",
      "sayı tek: 21\n",
      "sayı çift: 22\n",
      "sayı tek: 23\n",
      "sayı çift: 24\n",
      "sayı tek: 25\n",
      "sayı çift: 26\n",
      "sayı tek: 27\n",
      "sayı çift: 28\n",
      "sayı tek: 29\n",
      "sayı çift: 30\n",
      "sayı tek: 31\n",
      "sayı çift: 32\n",
      "sayı tek: 33\n",
      "sayı çift: 34\n",
      "sayı tek: 35\n",
      "sayı çift: 36\n",
      "sayı tek: 37\n",
      "sayı çift: 38\n",
      "sayı tek: 39\n",
      "sayı çift: 40\n",
      "sayı tek: 41\n",
      "sayı çift: 42\n",
      "sayı tek: 43\n",
      "sayı çift: 44\n",
      "sayı tek: 45\n",
      "sayı çift: 46\n",
      "sayı tek: 47\n",
      "sayı çift: 48\n",
      "sayı tek: 49\n",
      "sayı çift: 50\n",
      "sayı tek: 51\n",
      "sayı çift: 52\n",
      "sayı tek: 53\n",
      "sayı çift: 54\n",
      "sayı tek: 55\n",
      "sayı çift: 56\n",
      "sayı tek: 57\n",
      "sayı çift: 58\n",
      "sayı tek: 59\n",
      "sayı çift: 60\n",
      "sayı tek: 61\n",
      "sayı çift: 62\n",
      "sayı tek: 63\n",
      "sayı çift: 64\n",
      "sayı tek: 65\n",
      "sayı çift: 66\n",
      "sayı tek: 67\n",
      "sayı çift: 68\n",
      "sayı tek: 69\n",
      "sayı çift: 70\n",
      "sayı tek: 71\n",
      "sayı çift: 72\n",
      "sayı tek: 73\n",
      "sayı çift: 74\n",
      "sayı tek: 75\n",
      "sayı çift: 76\n",
      "sayı tek: 77\n",
      "sayı çift: 78\n",
      "sayı tek: 79\n",
      "sayı çift: 80\n",
      "sayı tek: 81\n",
      "sayı çift: 82\n",
      "sayı tek: 83\n",
      "sayı çift: 84\n",
      "sayı tek: 85\n",
      "sayı çift: 86\n",
      "sayı tek: 87\n",
      "sayı çift: 88\n",
      "sayı tek: 89\n",
      "sayı çift: 90\n",
      "sayı tek: 91\n",
      "sayı çift: 92\n",
      "sayı tek: 93\n",
      "sayı çift: 94\n",
      "sayı tek: 95\n",
      "sayı çift: 96\n",
      "sayı tek: 97\n",
      "sayı çift: 98\n",
      "sayı tek: 99\n",
      "sayı çift: 100\n",
      "bitti...\n"
     ]
    }
   ],
   "source": [
    "x = 1\n",
    "while x <= 100:\n",
    "    if x % 2==1:\n",
    "        print(f'sayı tek: {x}')\n",
    "    else:\n",
    "        print(f'sayı çift: {x}')\n",
    "    x += 1\n",
    "\n",
    "print('bitti...')"
   ]
  },
  {
   "cell_type": "markdown",
   "metadata": {},
   "source": [
    "## For\n",
    "+ for döngüsü in'den sonra yazdığımız yapının bütün değerleri üzerinde dolanıp, eleman sayısı kadar içindeki kodu çalıştıracak. x in <obje> yapısı ile tanımlandığında, x döngünün her adımında in den sonra tanımlanan yapının elemanlarının değerlerini alacak.\n",
    "\n",
    "for <değişken> in <obje>\n",
    "\n",
    "+ for döngüsünün en başında <değişken>, <obje>'nin ilk elemanının değerini alıyor. İçindeki kod 1 kere çalışıp bittikten sonra ikinci kere çalıştırıyor ve <değişken>, <obje>'nin ikinci elemanının değerini alıyor. Bu <obje>'nin tüm elemanları bitene kadar devam ediyor.\n"
   ]
  },
  {
   "cell_type": "code",
   "execution_count": 9,
   "metadata": {},
   "outputs": [
    {
     "name": "stdout",
     "output_type": "stream",
     "text": [
      "h\n",
      "e\n",
      "y\n"
     ]
    }
   ],
   "source": [
    "for c in \"hey\":\n",
    "    print(c)"
   ]
  },
  {
   "cell_type": "code",
   "execution_count": 10,
   "metadata": {},
   "outputs": [
    {
     "name": "stdout",
     "output_type": "stream",
     "text": [
      "5050\n",
      "0\n",
      "1\n",
      "2\n",
      "3\n",
      "4\n"
     ]
    }
   ],
   "source": [
    "toplam = 0\n",
    "\n",
    "for x in range(101):\n",
    "    toplam += x\n",
    "print(toplam)\n",
    "5050\n",
    "for x in range(5):\n",
    "    print(x)\n"
   ]
  },
  {
   "cell_type": "code",
   "execution_count": 12,
   "metadata": {},
   "outputs": [
    {
     "name": "stdout",
     "output_type": "stream",
     "text": [
      "3125\n"
     ]
    }
   ],
   "source": [
    "toplam = 1\n",
    "for i in range(5):\n",
    "    toplam *=5\n",
    "    \n",
    "print(toplam) \n",
    "#Bu kod, basitçe 5 sayısının 5. kuvvetini hesaplamakta"
   ]
  },
  {
   "cell_type": "code",
   "execution_count": 13,
   "metadata": {},
   "outputs": [
    {
     "name": "stdout",
     "output_type": "stream",
     "text": [
      "3125\n"
     ]
    }
   ],
   "source": [
    "toplam = 1\n",
    "for _ in range(5):\n",
    "    toplam *=5\n",
    "    \n",
    "print(toplam)\n",
    "# Üst satır ile aynı anlamda "
   ]
  },
  {
   "cell_type": "markdown",
   "metadata": {},
   "source": [
    "## for vs while\n",
    "+ while yapısında kaç kere iterasyon yapacağımızı bilmiyoruz, for'da eleman sayısı kadar iterasyon var. (break veya continue ile bölünmezse)\n",
    "+ Aslında for döngüsünü while döngüsünü kullanarak yazabiliriz, ama while döngüsünü for kullanarak yazamayız, çünkü for'da test mekanizması yok."
   ]
  },
  {
   "cell_type": "code",
   "execution_count": 1,
   "metadata": {},
   "outputs": [
    {
     "name": "stdout",
     "output_type": "stream",
     "text": [
      "h\n",
      "e\n",
      "y\n"
     ]
    }
   ],
   "source": [
    "s = \"hey\"\n",
    "for c in s:\n",
    "    print(c)"
   ]
  },
  {
   "cell_type": "code",
   "execution_count": 2,
   "metadata": {},
   "outputs": [
    {
     "name": "stdout",
     "output_type": "stream",
     "text": [
      "h\n",
      "e\n",
      "y\n"
     ]
    }
   ],
   "source": [
    "n = len(s)\n",
    "index = 0\n",
    "\n",
    "while index < n:\n",
    "        print(s[index])\n",
    "        index += 1"
   ]
  }
 ],
 "metadata": {
  "kernelspec": {
   "display_name": "Python 3",
   "language": "python",
   "name": "python3"
  },
  "language_info": {
   "codemirror_mode": {
    "name": "ipython",
    "version": 3
   },
   "file_extension": ".py",
   "mimetype": "text/x-python",
   "name": "python",
   "nbconvert_exporter": "python",
   "pygments_lexer": "ipython3",
   "version": "3.10.3"
  },
  "orig_nbformat": 4
 },
 "nbformat": 4,
 "nbformat_minor": 2
}
