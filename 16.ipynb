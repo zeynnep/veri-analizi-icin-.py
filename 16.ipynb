{
 "cells": [
  {
   "cell_type": "markdown",
   "metadata": {},
   "source": [
    "## _*Non-Scalar Veri Tiplerinde for*_\n",
    "+ for döngüsünü işlerken for <değişken> in <obje> yapısında, her iterasyonda değişkenin tek tek objenin elemanlarına eşit olduğunu konuşmuştuk.\n",
    "+ list, tuple, dictionary non-scalar veri tiplerini gördük ve bunların hepsinin içsel bir yapısı var, şimdi bunların elemanlarında for kullanarak iterasyon yapmaya bakalım.\n",
    "\n",
    "## _*Listelerde İterasyon*_\n",
    "+ Diyelim ki öğrencilerin notlarını bir listede tutuyoruz."
   ]
  },
  {
   "cell_type": "code",
   "execution_count": 1,
   "metadata": {},
   "outputs": [],
   "source": [
    "notlar = [90,72,81,77]"
   ]
  },
  {
   "cell_type": "code",
   "execution_count": 2,
   "metadata": {},
   "outputs": [
    {
     "name": "stdout",
     "output_type": "stream",
     "text": [
      "90\n",
      "72\n",
      "81\n",
      "77\n"
     ]
    }
   ],
   "source": [
    "for i in notlar:\n",
    "    print(i)"
   ]
  },
  {
   "cell_type": "code",
   "execution_count": 8,
   "metadata": {},
   "outputs": [
    {
     "name": "stdout",
     "output_type": "stream",
     "text": [
      "80.0\n"
     ]
    }
   ],
   "source": [
    "t = 0\n",
    "for i in notlar:\n",
    "    t += i\n",
    "\n",
    "ortalama = t / len(notlar)\n",
    "\n",
    "print(ortalama)"
   ]
  },
  {
   "cell_type": "markdown",
   "metadata": {},
   "source": [
    "+ Bunun aynısını range() fonksiyonu ile de yapabilirdik.\n",
    "+ for i in notlar diyince ilk iterasyonda enin değeri 90, ikincisinde 72... olarak devam etti.\n",
    "+ range() ile indexlerde iterasyon yapıp indexing ile değerlerine de ulaşabilirdim. (Range belirli bir listenin indexlerinde iterasyon yapmamı sağlamıyor, range(len(notlar)) diyince bize 0,1,2.. len(notlar)-1 sayılarını verecek, bunlar da listenin indexleriyle örtüşüyor, yoksa range() index verir diye bir şey yok.)\n"
   ]
  },
  {
   "cell_type": "code",
   "execution_count": 9,
   "metadata": {},
   "outputs": [
    {
     "name": "stdout",
     "output_type": "stream",
     "text": [
      "Iteration:  0\n",
      "Iteration:  1\n",
      "Iteration:  2\n",
      "Iteration:  3\n"
     ]
    }
   ],
   "source": [
    "\n",
    "for i in range(4):\n",
    "    print(\"Iteration: \", i)"
   ]
  },
  {
   "cell_type": "code",
   "execution_count": 10,
   "metadata": {},
   "outputs": [
    {
     "name": "stdout",
     "output_type": "stream",
     "text": [
      "Ortalama: 80.0\n"
     ]
    }
   ],
   "source": [
    "t = 0\n",
    "\n",
    "for i in range(len(notlar)):\n",
    "    t += notlar[i]\n",
    "    \n",
    "ortalama = t / len(notlar)\n",
    "\n",
    "print(\"Ortalama:\",ortalama)"
   ]
  },
  {
   "cell_type": "code",
   "execution_count": 11,
   "metadata": {},
   "outputs": [
    {
     "data": {
      "text/plain": [
       "[90, 72, 81, 77]"
      ]
     },
     "execution_count": 11,
     "metadata": {},
     "output_type": "execute_result"
    }
   ],
   "source": [
    "notlar"
   ]
  },
  {
   "cell_type": "code",
   "execution_count": 12,
   "metadata": {},
   "outputs": [
    {
     "name": "stdout",
     "output_type": "stream",
     "text": [
      "90\n",
      "72\n",
      "81\n",
      "77\n"
     ]
    }
   ],
   "source": [
    "for e in notlar:\n",
    "    print(e)"
   ]
  },
  {
   "cell_type": "code",
   "execution_count": 13,
   "metadata": {},
   "outputs": [
    {
     "name": "stdout",
     "output_type": "stream",
     "text": [
      "90\n",
      "100\n",
      "[90, 72, 81, 77]\n",
      "--------------\n",
      "72\n",
      "82\n",
      "[90, 72, 81, 77]\n",
      "--------------\n",
      "81\n",
      "91\n",
      "[90, 72, 81, 77]\n",
      "--------------\n",
      "77\n",
      "87\n",
      "[90, 72, 81, 77]\n",
      "--------------\n",
      "[90, 72, 81, 77]\n"
     ]
    }
   ],
   "source": [
    "for e in notlar:\n",
    "    print(e)\n",
    "    e = e + 10\n",
    "    print(e)\n",
    "    print(notlar)\n",
    "    print(\"--------------\")\n",
    "\n",
    "print(notlar)"
   ]
  },
  {
   "cell_type": "markdown",
   "metadata": {},
   "source": [
    "+ Buradaki e sadece notların içindeki değerler,e 'yi değiştirmek listenin elemanlarını değiştirmez!\n",
    "+ Güncelleme mantığını range() ile indexlerinde iterasyon yaparak yapacağım."
   ]
  },
  {
   "cell_type": "code",
   "execution_count": 14,
   "metadata": {},
   "outputs": [
    {
     "data": {
      "text/plain": [
       "[95, 77, 86, 82]"
      ]
     },
     "execution_count": 14,
     "metadata": {},
     "output_type": "execute_result"
    }
   ],
   "source": [
    "for i in range(len(notlar)): notlar[i] += 5\n",
    "notlar"
   ]
  },
  {
   "cell_type": "code",
   "execution_count": 15,
   "metadata": {},
   "outputs": [],
   "source": [
    "notlar = [90,72,81,77]"
   ]
  },
  {
   "cell_type": "code",
   "execution_count": 16,
   "metadata": {},
   "outputs": [
    {
     "name": "stdout",
     "output_type": "stream",
     "text": [
      "[95, 72, 86, 82]\n"
     ]
    }
   ],
   "source": [
    "for i in range(len(notlar)):\n",
    "    \n",
    "    if i == 1:\n",
    "        continue\n",
    "        \n",
    "    notlar[i] += 5\n",
    "\n",
    "print(notlar)"
   ]
  },
  {
   "cell_type": "markdown",
   "metadata": {},
   "source": [
    "+ Diyelim ki bir listenin içinde belirli bir eleman var mı diye kontrol etmek istiyoruz. Bulunca aramaya devam etmeyeceğim. Devam etme mantığını break ile sağlayacağım.\n",
    "+ İlk kullanıcıya hangi sayıyı aradığını soracağız, sonra bu sayı var mı kontrol edeceğiz."
   ]
  },
  {
   "cell_type": "code",
   "execution_count": 17,
   "metadata": {},
   "outputs": [
    {
     "name": "stdout",
     "output_type": "stream",
     "text": [
      "2\n",
      "3\n",
      "40\n",
      "Buldum!!\n"
     ]
    }
   ],
   "source": [
    "x = int(input(\"Hangi sayıyı kontrol edeyim?:\"))\n",
    "\n",
    "l = [2,3,40,100,10,1]\n",
    "\n",
    "for e in l:\n",
    "    print(e) # iterasyon break ile çıkmış mı görelim mi diye\n",
    "    if e == x:\n",
    "        print(\"Buldum!!\")\n",
    "        break"
   ]
  },
  {
   "cell_type": "markdown",
   "metadata": {},
   "source": [
    "## _*Tuple'lerda İterasyon*_\n",
    "+ Listelerde iterasyondan hiç bir farkı yok. Evet kısa bir açıklama oldu ama durum bu :) . Değerlerini güncelleyemiyoruz ama bu zaten döngüden bağımsız bir durum oluyor."
   ]
  },
  {
   "cell_type": "code",
   "execution_count": 18,
   "metadata": {},
   "outputs": [
    {
     "name": "stdout",
     "output_type": "stream",
     "text": [
      "1\n",
      "2\n",
      "3\n",
      "4\n"
     ]
    }
   ],
   "source": [
    "t = (1,2,3,4)\n",
    "for e in t :\n",
    "    print(e)"
   ]
  },
  {
   "cell_type": "code",
   "execution_count": 19,
   "metadata": {},
   "outputs": [
    {
     "name": "stdout",
     "output_type": "stream",
     "text": [
      "10\n"
     ]
    }
   ],
   "source": [
    "toplam = 0\n",
    "\n",
    "for e in t:\n",
    "    toplam += e\n",
    "    \n",
    "print(toplam)"
   ]
  },
  {
   "cell_type": "code",
   "execution_count": 20,
   "metadata": {},
   "outputs": [
    {
     "name": "stdout",
     "output_type": "stream",
     "text": [
      "1\n",
      "2\n",
      "3\n",
      "4\n"
     ]
    }
   ],
   "source": [
    "for i in range(len(t)):\n",
    "    print(t[i])"
   ]
  },
  {
   "cell_type": "markdown",
   "metadata": {},
   "source": [
    "## _*Dictionary'lerde İterasyon*_\n",
    "+ Burada durum biraz farklı. Default olarak elemanlarında dolaş diyince key 'lerde iterasyon yapıyor. Zaten index mantığı olmadığı için range() ile yapmak çoğu zaman karşımıza çıkmaz. "
   ]
  },
  {
   "cell_type": "code",
   "execution_count": 23,
   "metadata": {},
   "outputs": [
    {
     "name": "stdout",
     "output_type": "stream",
     "text": [
      "student_1\n",
      "student_2\n",
      "student_3\n"
     ]
    }
   ],
   "source": [
    "d = {\"student_1\": [90,89], \"student_2\": [80,83], \"student_3\": [72,71]}\n",
    "for k in d:\n",
    "    print(k)"
   ]
  },
  {
   "cell_type": "code",
   "execution_count": 24,
   "metadata": {},
   "outputs": [
    {
     "name": "stdout",
     "output_type": "stream",
     "text": [
      "[90, 89]\n",
      "[80, 83]\n",
      "[72, 71]\n"
     ]
    }
   ],
   "source": [
    "#Değerlerine ulaşmak istiyorsam şöyle yapabilirdim:\n",
    "for k in d:\n",
    "    v = d[k]\n",
    "    print(v)"
   ]
  },
  {
   "cell_type": "markdown",
   "metadata": {},
   "source": [
    "+ Veya d.values() diyerek value'lerında iterasyon yapabilirim. Burada for <değişken> in <obje> yapısında <değişken> int vs gibi şeyler değil liste gibi yapılar da olabilir iterasyon içerisinde, burada da öyle oldu.\n",
    "+ bu .values() 'dan dolayı olan bir şey değil, dictionary'nin value'lerı int olsa böyle olmazdı.\n"
   ]
  },
  {
   "cell_type": "code",
   "execution_count": 25,
   "metadata": {},
   "outputs": [
    {
     "name": "stdout",
     "output_type": "stream",
     "text": [
      "90\n",
      "80\n",
      "72\n"
     ]
    }
   ],
   "source": [
    "d = {\"student_1\": 90, \"student_2\": 80, \"student_3\": 72}\n",
    "for v in d.values():\n",
    "    print(v)"
   ]
  },
  {
   "cell_type": "code",
   "execution_count": 27,
   "metadata": {},
   "outputs": [
    {
     "name": "stdout",
     "output_type": "stream",
     "text": [
      "[90, 89]\n",
      "[80, 83]\n",
      "[72, 71]\n"
     ]
    }
   ],
   "source": [
    "d = {\"student_1\": [90,89], \"student_2\": [80,83], \"student_3\": [72,71]}\n",
    "for v in d.values():\n",
    "    print(v)\n"
   ]
  },
  {
   "cell_type": "code",
   "execution_count": 28,
   "metadata": {},
   "outputs": [
    {
     "name": "stdout",
     "output_type": "stream",
     "text": [
      "student_1\n"
     ]
    }
   ],
   "source": [
    "# 85'den fazla alan biri var mı diye bakmak istiyorum diyelim, ve bunun kim olduğunu (olduklarını) bulmak istiyorum.\n",
    "d = {\"student_1\": 90, \"student_2\": 80, \"student_3\": 72}\n",
    "for k in d:\n",
    "    value = d[k]\n",
    "    \n",
    "    if value > 85:\n",
    "        print(k)"
   ]
  },
  {
   "cell_type": "markdown",
   "metadata": {},
   "source": [
    "+ Aynı anda hem key hem de value'larda iterasyon yapmak için:\n",
    "+ Variable unpacking konusunda bir tuple, liste gibi yapıların değerlerini birden çok değişkene bir seferde eşitlemeyi görmüştük.\n",
    "+ Bunun aynısını iterasyonda da yapabiliriz.\n"
   ]
  },
  {
   "cell_type": "code",
   "execution_count": 29,
   "metadata": {},
   "outputs": [
    {
     "name": "stdout",
     "output_type": "stream",
     "text": [
      "key değeri: student_1 value değeri: 90\n",
      "key değeri: student_2 value değeri: 80\n",
      "key değeri: student_3 value değeri: 72\n"
     ]
    }
   ],
   "source": [
    "for k,v in d.items():\n",
    "    print(\"key değeri:\", k, \"value değeri:\", v)"
   ]
  }
 ],
 "metadata": {
  "kernelspec": {
   "display_name": "Python 3",
   "language": "python",
   "name": "python3"
  },
  "language_info": {
   "codemirror_mode": {
    "name": "ipython",
    "version": 3
   },
   "file_extension": ".py",
   "mimetype": "text/x-python",
   "name": "python",
   "nbconvert_exporter": "python",
   "pygments_lexer": "ipython3",
   "version": "3.10.3"
  },
  "orig_nbformat": 4
 },
 "nbformat": 4,
 "nbformat_minor": 2
}
